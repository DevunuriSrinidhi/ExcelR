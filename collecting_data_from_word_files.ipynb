{
  "nbformat": 4,
  "nbformat_minor": 0,
  "metadata": {
    "colab": {
      "provenance": [],
      "authorship_tag": "ABX9TyOHknRBCQb9+Ai2qiuF4BW4",
      "include_colab_link": true
    },
    "kernelspec": {
      "name": "python3",
      "display_name": "Python 3"
    },
    "language_info": {
      "name": "python"
    }
  },
  "cells": [
    {
      "cell_type": "markdown",
      "metadata": {
        "id": "view-in-github",
        "colab_type": "text"
      },
      "source": [
        "<a href=\"https://colab.research.google.com/github/DevunuriSrinidhi/ExcelR/blob/main/collecting_data_from_word_files.ipynb\" target=\"_parent\"><img src=\"https://colab.research.google.com/assets/colab-badge.svg\" alt=\"Open In Colab\"/></a>"
      ]
    },
    {
      "cell_type": "code",
      "execution_count": 1,
      "metadata": {
        "colab": {
          "base_uri": "https://localhost:8080/"
        },
        "id": "hxlLHLDIKBde",
        "outputId": "485380d6-7e6f-4d8e-8d6d-4fb225e59ba4"
      },
      "outputs": [
        {
          "output_type": "stream",
          "name": "stdout",
          "text": [
            "Collecting python-docx\n",
            "  Downloading python_docx-1.1.2-py3-none-any.whl.metadata (2.0 kB)\n",
            "Requirement already satisfied: lxml>=3.1.0 in /usr/local/lib/python3.11/dist-packages (from python-docx) (5.3.0)\n",
            "Requirement already satisfied: typing-extensions>=4.9.0 in /usr/local/lib/python3.11/dist-packages (from python-docx) (4.12.2)\n",
            "Downloading python_docx-1.1.2-py3-none-any.whl (244 kB)\n",
            "\u001b[?25l   \u001b[90m━━━━━━━━━━━━━━━━━━━━━━━━━━━━━━━━━━━━━━━━\u001b[0m \u001b[32m0.0/244.3 kB\u001b[0m \u001b[31m?\u001b[0m eta \u001b[36m-:--:--\u001b[0m\r\u001b[2K   \u001b[91m━━━━━━━━━━━━━━━\u001b[0m\u001b[90m╺\u001b[0m\u001b[90m━━━━━━━━━━━━━━━━━━━━━━━━\u001b[0m \u001b[32m92.2/244.3 kB\u001b[0m \u001b[31m3.1 MB/s\u001b[0m eta \u001b[36m0:00:01\u001b[0m\r\u001b[2K   \u001b[90m━━━━━━━━━━━━━━━━━━━━━━━━━━━━━━━━━━━━━━━━\u001b[0m \u001b[32m244.3/244.3 kB\u001b[0m \u001b[31m3.5 MB/s\u001b[0m eta \u001b[36m0:00:00\u001b[0m\n",
            "\u001b[?25hInstalling collected packages: python-docx\n",
            "Successfully installed python-docx-1.1.2\n"
          ]
        }
      ],
      "source": [
        "!pip install python-docx"
      ]
    },
    {
      "cell_type": "code",
      "source": [
        "import docx"
      ],
      "metadata": {
        "id": "SaTI4YkTKGdY"
      },
      "execution_count": 2,
      "outputs": []
    },
    {
      "cell_type": "code",
      "source": [
        "doc = open(\"bio of akhil.docx\",\"rb\")\n",
        "document = docx.Document(doc)"
      ],
      "metadata": {
        "id": "iBuNbe2tKIYz"
      },
      "execution_count": 5,
      "outputs": []
    },
    {
      "cell_type": "code",
      "source": [
        "docu=\"\"\n",
        "for para in document.paragraphs:\n",
        "    docu += para.text\n",
        "print(docu)"
      ],
      "metadata": {
        "colab": {
          "base_uri": "https://localhost:8080/"
        },
        "id": "vV3hJ-MdKljh",
        "outputId": "05753a15-fd3d-461a-869c-78dfcbfc7a35"
      },
      "execution_count": 10,
      "outputs": [
        {
          "output_type": "stream",
          "name": "stdout",
          "text": [
            "ABOUT ME …                                                                                                                                       I am D.Akhil Kathikeya I was studying in 10th class my ame is to become a software engineer and my passion is to be a  sportsmanship in my life .                                                                                                                                                        MY BIO ?                                                                                                                                                   In 2007 20th oct I was bron my father name D.Bala Krishna and my mother name D.Sharadha and I have my fav sister in my life and we have big family grand father  grandmother they both members love me so much and in life most support persons are  my uncles and  aunties and I have brothers and sisters and we have to play cricket in my home with fathers and one more is an a farthers have to play the cricket in tournaments in city I also fights with my sisters and cricket bating  and blowing with my brothers we have went to ground playing in our team and  I grow to 15 years and we have went to cricket match with my team we going out to football tournaments in that match we selected to district level in football .\n"
          ]
        }
      ]
    },
    {
      "cell_type": "code",
      "source": [
        "for i in range(len(document.paragraphs)):\n",
        "  print(\"The content of the paragraph \"+ str(i)+\" is : \" + document.paragraphs[i].text+\"\\n\")"
      ],
      "metadata": {
        "colab": {
          "base_uri": "https://localhost:8080/"
        },
        "id": "0Q81d51rLKpZ",
        "outputId": "ed07447c-91fc-4946-fa6b-416db727627a"
      },
      "execution_count": 9,
      "outputs": [
        {
          "output_type": "stream",
          "name": "stdout",
          "text": [
            "The content of the paragraph 0 is : ABOUT ME …                                                                                                                                       I am D.Akhil Kathikeya I was studying in 10th class my ame is to become a software engineer and my passion is to be a  sportsmanship in my life .                                                                                                                                                        \n",
            "\n",
            "The content of the paragraph 1 is : MY BIO ?                                                                                                                                                   In 2007 20th oct I was bron my father name D.Bala Krishna and my mother name D.Sharadha and I have my fav sister in my life and we have big family grand father  grandmother they both members love me so much and in life most support persons are  my uncles and  aunties and I have brothers and sisters and we have to play cricket in my home with fathers and one more is an a farthers have to play the cricket in tournaments in city I also fights with my sisters and cricket bating  and blowing with my brothers we have went to ground playing in our team and  I grow to 15 years and we have went to cricket match with my team we going out to football tournaments in that match we selected to district level in football .\n",
            "\n"
          ]
        }
      ]
    }
  ]
}