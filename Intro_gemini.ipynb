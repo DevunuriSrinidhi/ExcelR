{
  "nbformat": 4,
  "nbformat_minor": 0,
  "metadata": {
    "colab": {
      "provenance": [],
      "authorship_tag": "ABX9TyPn+9xw3TUNucdL4hEMS5Hz",
      "include_colab_link": true
    },
    "kernelspec": {
      "name": "python3",
      "display_name": "Python 3"
    },
    "language_info": {
      "name": "python"
    }
  },
  "cells": [
    {
      "cell_type": "markdown",
      "metadata": {
        "id": "view-in-github",
        "colab_type": "text"
      },
      "source": [
        "<a href=\"https://colab.research.google.com/github/DevunuriSrinidhi/ExcelR/blob/main/Intro_gemini.ipynb\" target=\"_parent\"><img src=\"https://colab.research.google.com/assets/colab-badge.svg\" alt=\"Open In Colab\"/></a>"
      ]
    },
    {
      "cell_type": "code",
      "execution_count": 1,
      "metadata": {
        "id": "8i3-TQ8ROcZ6"
      },
      "outputs": [],
      "source": [
        "%pip install -U -q \"google-generativeai>0.7.2\""
      ]
    },
    {
      "cell_type": "code",
      "source": [
        "from google.colab import userdata\n",
        "import google.generativeai as genai\n",
        "\n",
        "GOOGLE_API_KEY = userdata.get('GOOGLE_API_KEY')\n",
        "genai.configure(api_key=GOOGLE_API_KEY)"
      ],
      "metadata": {
        "id": "-afKrvl6Oxgr"
      },
      "execution_count": 2,
      "outputs": []
    },
    {
      "cell_type": "code",
      "source": [
        "model = genai.GenerativeModel('models/gemini-2.0-flash')\n",
        "response = model.generate_content(\"Please give me python code to sort a list\")\n",
        "print(response.text)"
      ],
      "metadata": {
        "colab": {
          "base_uri": "https://localhost:8080/",
          "height": 1000
        },
        "id": "Nd_Njmy7P79y",
        "outputId": "3705d748-7d3c-4463-e014-38093958b9b7"
      },
      "execution_count": 4,
      "outputs": [
        {
          "output_type": "stream",
          "name": "stdout",
          "text": [
            "```python\n",
            "# Method 1: Using the sorted() function (returns a new sorted list)\n",
            "\n",
            "def sort_list_new(my_list):\n",
            "  \"\"\"\n",
            "  Sorts a list and returns a new sorted list without modifying the original.\n",
            "\n",
            "  Args:\n",
            "    my_list: The list to be sorted.\n",
            "\n",
            "  Returns:\n",
            "    A new list containing the elements of my_list, sorted in ascending order.\n",
            "  \"\"\"\n",
            "  return sorted(my_list)\n",
            "\n",
            "# Example:\n",
            "original_list = [3, 1, 4, 1, 5, 9, 2, 6]\n",
            "sorted_list = sort_list_new(original_list)\n",
            "print(\"Original list:\", original_list)  # Output: Original list: [3, 1, 4, 1, 5, 9, 2, 6]\n",
            "print(\"Sorted list:\", sorted_list)      # Output: Sorted list: [1, 1, 2, 3, 4, 5, 6, 9]\n",
            "\n",
            "\n",
            "# Method 2: Using the list.sort() method (sorts the list in place)\n",
            "\n",
            "def sort_list_in_place(my_list):\n",
            "  \"\"\"\n",
            "  Sorts a list in place, modifying the original list.\n",
            "\n",
            "  Args:\n",
            "    my_list: The list to be sorted.\n",
            "\n",
            "  Returns:\n",
            "    None (the list is modified directly).\n",
            "  \"\"\"\n",
            "  my_list.sort()  # Sorts the list in ascending order by default\n",
            "\n",
            "\n",
            "# Example:\n",
            "original_list = [3, 1, 4, 1, 5, 9, 2, 6]\n",
            "sort_list_in_place(original_list)\n",
            "print(\"Original list (after sorting):\", original_list)  # Output: Original list (after sorting): [1, 1, 2, 3, 4, 5, 6, 9]\n",
            "\n",
            "\n",
            "# Optional arguments for both methods:\n",
            "\n",
            "# 1.  reverse=True:  Sorts in descending order\n",
            "\n",
            "def sort_descending(my_list):\n",
            "  return sorted(my_list, reverse=True) # or  my_list.sort(reverse=True)\n",
            "\n",
            "# Example:\n",
            "original_list = [3, 1, 4, 1, 5, 9, 2, 6]\n",
            "descending_list = sort_descending(original_list)\n",
            "print(\"Descending list:\", descending_list) #Output: Descending list: [9, 6, 5, 4, 3, 2, 1, 1]\n",
            "\n",
            "\n",
            "# 2. key=function:  Sorts based on the return value of the function applied to each element\n",
            "\n",
            "def sort_by_length(strings):\n",
            "    return sorted(strings, key=len) # or strings.sort(key=len)\n",
            "\n",
            "# Example:\n",
            "words = [\"apple\", \"banana\", \"kiwi\", \"orange\"]\n",
            "sorted_words = sort_by_length(words)\n",
            "print(\"Sorted by length:\", sorted_words) # Output: Sorted by length: ['kiwi', 'apple', 'banana', 'orange']\n",
            "\n",
            "# Example:  Sorting a list of tuples based on the second element\n",
            "\n",
            "def sort_tuples_by_second_element(tuples_list):\n",
            "  return sorted(tuples_list, key=lambda x: x[1]) # or tuples_list.sort(key=lambda x: x[1])\n",
            "\n",
            "#Example:\n",
            "data = [(1, 'b'), (2, 'a'), (3, 'c')]\n",
            "sorted_data = sort_tuples_by_second_element(data)\n",
            "print(\"Sorted tuples:\", sorted_data) # Output: Sorted tuples: [(2, 'a'), (1, 'b'), (3, 'c')]\n",
            "\n",
            "\n",
            "\n",
            "# Choosing the right method:\n",
            "\n",
            "*   **`sorted()`**: Use this if you need to preserve the original list and get a new sorted list.  It's generally preferred for clarity and avoiding unexpected side effects.\n",
            "\n",
            "*   **`list.sort()`**: Use this if you want to modify the list in place and don't need to keep the original.  It's slightly more efficient in terms of memory, as it doesn't create a new list. However, always be mindful of potential side effects when modifying data structures in place.\n",
            "\n",
            "The `key` argument is extremely powerful and allows you to customize the sorting behavior to handle more complex sorting scenarios.  The `lambda` function is a concise way to define simple functions inline, often used in conjunction with the `key` argument.\n",
            "\n"
          ]
        }
      ]
    },
    {
      "cell_type": "code",
      "source": [
        "from google import genai\n",
        "from google.genai import types\n",
        "\n",
        "client = genai.Client(api_key=GOOGLE_API_KEY)"
      ],
      "metadata": {
        "id": "5GzO0iJKVN-m"
      },
      "execution_count": 5,
      "outputs": []
    },
    {
      "cell_type": "code",
      "source": [],
      "metadata": {
        "id": "boAMJtshZJl7"
      },
      "execution_count": null,
      "outputs": []
    }
  ]
}